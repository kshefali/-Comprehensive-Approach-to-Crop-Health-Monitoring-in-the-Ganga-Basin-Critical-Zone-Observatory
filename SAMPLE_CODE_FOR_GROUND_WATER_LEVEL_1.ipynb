{
  "nbformat": 4,
  "nbformat_minor": 0,
  "metadata": {
    "colab": {
      "provenance": []
    },
    "kernelspec": {
      "name": "python3",
      "display_name": "Python 3"
    },
    "language_info": {
      "name": "python"
    }
  },
  "cells": [
    {
      "cell_type": "code",
      "execution_count": null,
      "metadata": {
        "id": "EmCUEUH632a4"
      },
      "outputs": [],
      "source": [
        "import pandas as pd\n",
        "import matplotlib.pyplot as plt\n",
        "from dateutil import parser\n",
        "\n",
        "# Read the CSV file\n",
        "data = pd.read_csv('new_well_1.csv')\n",
        "\n",
        "# Custom parsing function to handle different date formats\n",
        "def parse_date(date):\n",
        "    try:\n",
        "        return parser.parse(date)\n",
        "    except:\n",
        "        return pd.NaT\n",
        "\n",
        "# Apply custom parsing function to the date column\n",
        "data['DATE'] = data['DATE'].apply(parse_date)\n",
        "\n",
        "# Sort data by date\n",
        "data = data.sort_values(by='DATE')\n",
        "\n",
        "# Create a uniform date range for x-axis\n",
        "date_range = pd.date_range(start=data['DATE'].min(), end=data['DATE'].max(), freq='MS')\n",
        "\n",
        "# Plot\n",
        "plt.figure(figsize=(30, 10))\n",
        "plt.plot(data['DATE'], data['W1 (mbgl)'], marker='o', linestyle='-', label='Water Level (W1)')\n",
        "plt.title('Water Level Over Time')\n",
        "plt.xlabel('Date', fontsize=20)\n",
        "plt.ylabel('Water Level (mbgl)', fontsize=20)\n",
        "\n",
        "# Set uniform x-ticks with increased font size\n",
        "plt.xticks(date_range, rotation=45, fontsize=15)\n",
        "plt.yticks(fontsize=15)\n",
        "plt.gca().xaxis.set_major_formatter(plt.matplotlib.dates.DateFormatter('%d/%m/%y'))\n",
        "\n",
        "plt.tight_layout()\n",
        "plt.legend(fontsize=15)\n",
        "\n",
        "# Save the figure\n",
        "plt.savefig('Water_Level_Over_Time.png', dpi=300)\n",
        "\n",
        "# Show the figure\n",
        "plt.show()\n"
      ]
    }
  ]
}