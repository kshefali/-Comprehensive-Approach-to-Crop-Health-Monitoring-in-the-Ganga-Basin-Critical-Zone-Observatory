{
  "nbformat": 4,
  "nbformat_minor": 0,
  "metadata": {
    "colab": {
      "provenance": []
    },
    "kernelspec": {
      "name": "python3",
      "display_name": "Python 3"
    },
    "language_info": {
      "name": "python"
    }
  },
  "cells": [
    {
      "cell_type": "code",
      "execution_count": null,
      "metadata": {
        "id": "6nEAyhEN5KnY"
      },
      "outputs": [],
      "source": [
        "import pandas as pd\n",
        "import matplotlib.pyplot as plt\n",
        "import numpy as np\n",
        "\n",
        "# Read data from CSV file\n",
        "file_path = 'sample_plot_sm_rain_1.csv'\n",
        "data = pd.read_csv(file_path)\n",
        "\n",
        "# Check the column names to ensure they are correctly named\n",
        "print(data.columns)\n",
        "\n",
        "# Rename columns to match expected names if necessary\n",
        "data.columns = data.columns.str.strip()  # Strip any leading/trailing whitespace\n",
        "\n",
        "# Rename the columns to simpler names for easier access\n",
        "data.rename(columns={'date': 'date', 'rainfall (mm)': 'rainfall', 'L1': 'spatial_mean_SM'}, inplace=True)\n",
        "\n",
        "# Convert date column to datetime format\n",
        "data['date'] = pd.to_datetime(data['date'], format='%d-%b-%y')\n",
        "\n",
        "# Interpolate missing values for spatial_mean_SM and rainfall\n",
        "data['spatial_mean_SM'] = data['spatial_mean_SM'].interpolate()\n",
        "data['rainfall'] = data['rainfall'].interpolate()\n",
        "\n",
        "# Extract data for plotting\n",
        "dates = data['date']\n",
        "spatial_mean_SM = data['spatial_mean_SM']\n",
        "rainfall = data['rainfall']\n",
        "\n",
        "# Create the plot\n",
        "fig, ax1 = plt.subplots(figsize=(20, 8))\n",
        "\n",
        "# Plotting the Spatial Mean Soil Moisture\n",
        "ax1.plot(dates, spatial_mean_SM, label='Spatial mean SM', color='red')  # Set line color to red\n",
        "# Plot the points with a marker and color\n",
        "ax1.scatter(dates, spatial_mean_SM, color='black', s=20)  # Brown points with size 20\n",
        "ax1.set_xlabel('Date')\n",
        "ax1.set_ylabel('Spatial mean SM (% v/v)')\n",
        "ax1.set_ylim(0, 50)\n",
        "ax1.grid(True, which='both', axis='y')  # Remove vertical grid lines\n",
        "\n",
        "# Creating a second y-axis for Rainfall\n",
        "ax2 = ax1.twinx()\n",
        "ax2.bar(dates, rainfall, width=10, color='blue', alpha=0.5, label='Rainfall')\n",
        "ax2.set_ylabel('Rainfall (mm/day)')\n",
        "ax2.set_ylim(0, 250)\n",
        "\n",
        "# Set x-ticks to be at regular intervals of 10-15 days\n",
        "interval = 4  # Interval of 10 days\n",
        "ax1.set_xticks(dates[::interval])\n",
        "\n",
        "# Format x-tick labels, handling NaT values\n",
        "ax1.set_xticklabels([date.strftime('%d-%b-%y') if pd.notna(date) else '' for date in dates[::interval]], rotation=45, ha='right', fontsize=8)  # Smaller font size\n",
        "\n",
        "# Adding legends\n",
        "fig.legend(loc='upper right', bbox_to_anchor=(1, 1), bbox_transform=ax1.transAxes)\n",
        "\n",
        "plt.title('(a)')\n",
        "\n",
        "plt.show()\n"
      ]
    }
  ]
}